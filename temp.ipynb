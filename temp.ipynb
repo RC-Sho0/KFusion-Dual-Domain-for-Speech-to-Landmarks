{
 "cells": [
  {
   "cell_type": "code",
   "execution_count": 1,
   "metadata": {},
   "outputs": [
    {
     "name": "stderr",
     "output_type": "stream",
     "text": [
      "/mnt/e/ws/2024/S2T/.venv/lib/python3.10/site-packages/tqdm/auto.py:21: TqdmWarning: IProgress not found. Please update jupyter and ipywidgets. See https://ipywidgets.readthedocs.io/en/stable/user_install.html\n",
      "  from .autonotebook import tqdm as notebook_tqdm\n"
     ]
    }
   ],
   "source": [
    "import json\n",
    "import torch\n",
    "from torch.utils.data import Dataset, DataLoader\n",
    "import torch.nn as nn\n",
    "\n",
    "import numpy as np\n",
    "import pandas as pd\n",
    "import matplotlib.pyplot as plt\n",
    "\n",
    "import lightning as L\n",
    "import torchaudio.transforms as T\n",
    "from transformers import Wav2Vec2Model\n",
    "from module.KAN import KAN\n",
    "from metrix.LM import LandmarkDistance, LandmarkVelocityDifference\n",
    "import torchaudio\n"
   ]
  },
  {
   "cell_type": "code",
   "execution_count": 2,
   "metadata": {},
   "outputs": [],
   "source": [
    "import torch\n",
    "import torchaudio\n",
    "from torch.utils.data import Dataset, DataLoader\n",
    "import json\n",
    "import numpy as np\n",
    "import torchaudio.transforms as T\n",
    "\n",
    "\n",
    "class MEAD(Dataset):\n",
    "    def __init__(self, data_path, duration, batch):\n",
    "        super(MEAD, self).__init__()\n",
    "\n",
    "        with open(data_path,\"r\") as f:\n",
    "            datalist = json.load(f)\n",
    "        ln = int(len(datalist)/batch)*batch\n",
    "        self.datalist = datalist[:ln]\n",
    "        self.time = duration\n",
    "\n",
    "        self.mn = 56\n",
    "        self.mx = 243\n",
    "\n",
    "\n",
    "\n",
    "    def __len__(self):\n",
    "        return len(self.datalist)\n",
    "    \n",
    "    def __getitem__(self, idx):\n",
    "        row = self.datalist[idx]\n",
    "\n",
    "        waveform, sample_rate = torchaudio.load(f\"dataset/duration/audios/{row['audio']}\", num_frames= 48000* self.time, normalize=\"True\")\n",
    "        landmark =  torch.from_numpy(np.load(f\"dataset/duration/fa_landmarks/{row['landmark']}\")).permute(0,2,1)[:30*self.time]\n",
    "        landmark = (landmark - self.mn) / (self.mx - self.mn)\n",
    "        # ilm = torch.mean(landmark, dim=1)\n",
    "        name = row[\"name\"].split('_')[0]\n",
    "        ilm = landmark[0]\n",
    "        waveform = T.Resample(48000, 16000, dtype=waveform.dtype)(waveform)\n",
    "        waveform = torch.mean(waveform, dim=0)\n",
    "\n",
    "        # waveform = torch.load(f\"dataset/vec2s/M003_front_{row['name']}.pt\")\n",
    "\n",
    "        return {'name': row['name'], 'audio':waveform.float(), 'target':landmark.float(), 'ilm':ilm.float(), 'label':row['emotion']}"
   ]
  },
  {
   "cell_type": "code",
   "execution_count": 74,
   "metadata": {},
   "outputs": [],
   "source": [
    "datas = MEAD(\"dataset/duration/fa_datalist.json\", duration=1, batch=16)"
   ]
  },
  {
   "cell_type": "code",
   "execution_count": 75,
   "metadata": {},
   "outputs": [],
   "source": [
    "loader = DataLoader(datas, batch_size=1, shuffle=True)"
   ]
  },
  {
   "cell_type": "code",
   "execution_count": 77,
   "metadata": {},
   "outputs": [
    {
     "data": {
      "text/plain": [
       "4.285714285714286"
      ]
     },
     "execution_count": 77,
     "metadata": {},
     "output_type": "execute_result"
    }
   ],
   "source": [
    "30/7"
   ]
  },
  {
   "cell_type": "code",
   "execution_count": 86,
   "metadata": {},
   "outputs": [
    {
     "name": "stdout",
     "output_type": "stream",
     "text": [
      "['W035_sad_level_1_020']\n"
     ]
    },
    {
     "ename": "TypeError",
     "evalue": "cannot unpack non-iterable Axes object",
     "output_type": "error",
     "traceback": [
      "\u001b[0;31m---------------------------------------------------------------------------\u001b[0m",
      "\u001b[0;31mTypeError\u001b[0m                                 Traceback (most recent call last)",
      "Cell \u001b[0;32mIn[86], line 20\u001b[0m\n\u001b[1;32m     18\u001b[0m plt\u001b[38;5;241m.\u001b[39mfigure(figsize\u001b[38;5;241m=\u001b[39m(\u001b[38;5;241m14\u001b[39m,\u001b[38;5;241m2\u001b[39m))\n\u001b[1;32m     19\u001b[0m \u001b[38;5;28;01mfor\u001b[39;00m sid \u001b[38;5;129;01min\u001b[39;00m \u001b[38;5;28mrange\u001b[39m(\u001b[38;5;241m1\u001b[39m,\u001b[38;5;241m30\u001b[39m,\u001b[38;5;241m4\u001b[39m):\n\u001b[0;32m---> 20\u001b[0m     plt, ax \u001b[38;5;241m=\u001b[39m plt\u001b[38;5;241m.\u001b[39msubplot(\u001b[38;5;241m1\u001b[39m,\u001b[38;5;241m8\u001b[39m,i\u001b[38;5;241m+\u001b[39m\u001b[38;5;241m1\u001b[39m)\n\u001b[1;32m     21\u001b[0m     i \u001b[38;5;241m+\u001b[39m\u001b[38;5;241m=\u001b[39m \u001b[38;5;241m1\u001b[39m\n\u001b[1;32m     22\u001b[0m     plt\u001b[38;5;241m.\u001b[39mimshow(video[sid])\n",
      "\u001b[0;31mTypeError\u001b[0m: cannot unpack non-iterable Axes object"
     ]
    },
    {
     "data": {
      "image/png": "[encoded data removed]",
      "text/plain": [
       "<Figure size 1400x200 with 1 Axes>"
      ]
     },
     "metadata": {},
     "output_type": "display_data"
    }
   ],
   "source": [
    "import torchvision\n",
    "k = 0\n",
    "for item in loader:\n",
    "    print(item['name'])\n",
    "\n",
    "    plt.figure(figsize=(14,2))\n",
    "    plt.plot(item['audio'][0])\n",
    "    plt.savefig(f\"temp/datashow/aud_{item['name'][0]}.png\")\n",
    "\n",
    "    plt.close()\n",
    "\n",
    "    name = item['name'][0].split(\"_\",1)\n",
    "    video = torchvision.io.read_video(f\"dataset/duration/vidcrops/{name[0]}_front_{name[1]}.mp4\", pts_unit='sec')[0]\n",
    "    i = 0\n",
    "\n",
    "\n",
    "    item['target'] = item['target'] * (datas.mx - datas.mn) + datas.mn\n",
    "    plt.figure(figsize=(14,2))\n",
    "    for sid in range(1,30,4):\n",
    "        plt, ax = plt.subplot(1,8,i+1)\n",
    "        i += 1\n",
    "        plt.imshow(video[sid])\n",
    "        # plt.axis('off') \n",
    "        ax.set_xstick([])\n",
    "        ax.set_ystick([])\n",
    "    plt.savefig(f\"temp/datashow/face_{item['name'][0]}.png\")\n",
    "\n",
    "    plt.close()\n",
    "    i = 0\n",
    "\n",
    "    plt.figure(figsize=(14,2))\n",
    "    for sid in range(1,30,4):\n",
    "        plt, ax = plt.subplot(1,8,i+1)\n",
    "        plain = np.ones((256,256,3))\n",
    "        plt.imshow(plain)\n",
    "        plt.scatter(item['target'][0][sid][0,:], item['target'][0][sid][1,:], c='b', s=0.5)\n",
    "        # plt.axis('off') \n",
    "        i+=1\n",
    "    plt.savefig(f\"temp/datashow/lmd_{item['name'][0]}.png\")\n",
    "    plt.close()\n",
    "    break\n",
    "\n",
    "    if k == 10: break\n",
    "    else: k+= 1"
   ]
  },
  {
   "cell_type": "code",
   "execution_count": null,
   "metadata": {},
   "outputs": [],
   "source": []
  },
  {
   "cell_type": "code",
   "execution_count": 50,
   "metadata": {},
   "outputs": [
    {
     "data": {
      "text/plain": [
       "<matplotlib.collections.PathCollection at 0x7fcdf75e7cd0>"
      ]
     },
     "execution_count": 50,
     "metadata": {},
     "output_type": "execute_result"
    },
    {
     "data": {
      "image/png": "[encoded data removed]",
      "text/plain": [
       "<Figure size 640x480 with 1 Axes>"
      ]
     },
     "metadata": {},
     "output_type": "display_data"
    }
   ],
   "source": [
    "plain = np.ones((256,256,3))\n",
    "item['target'] = item['target'] * (datas.mx - datas.mn) + datas.mn\n",
    "plt.imshow(plain)\n",
    "plt.scatter(item['target'][0][sid][0,:], item['target'][0][sid][1,:], c='b', s=0.5)"
   ]
  },
  {
   "cell_type": "code",
   "execution_count": 48,
   "metadata": {},
   "outputs": [
    {
     "data": {
      "text/plain": [
       "tensor([0.3529, 0.4332, 0.5027, 0.5722, 0.6417, 0.6898, 0.7273, 0.7701, 0.7968,\n",
       "        0.7807, 0.7380, 0.7112, 0.6524, 0.5829, 0.5134, 0.4439, 0.3743, 0.2406,\n",
       "        0.2139, 0.1925, 0.2032, 0.2139, 0.2246, 0.2139, 0.2139, 0.2299, 0.2727,\n",
       "        0.3102, 0.3529, 0.4011, 0.4332, 0.4706, 0.4813, 0.4920, 0.4813, 0.4813,\n",
       "        0.3102, 0.2941, 0.2941, 0.3102, 0.3209, 0.3209, 0.3209, 0.3048, 0.3048,\n",
       "        0.3209, 0.3316, 0.3316, 0.5829, 0.5508, 0.5294, 0.5294, 0.5294, 0.5508,\n",
       "        0.5882, 0.6417, 0.6578, 0.6684, 0.6578, 0.6417, 0.5829, 0.5615, 0.5615,\n",
       "        0.5615, 0.5882, 0.6203, 0.6310, 0.6203])"
      ]
     },
     "execution_count": 48,
     "metadata": {},
     "output_type": "execute_result"
    }
   ],
   "source": [
    " item['target'][0][sid][1,:]"
   ]
  },
  {
   "cell_type": "code",
   "execution_count": 1,
   "metadata": {},
   "outputs": [],
   "source": [
    "import os\n",
    "import face_alignment\n",
    "import numpy as np\n",
    "import matplotlib.pyplot as plt\n",
    "from skimage import io\n",
    "import skimage\n",
    "\n",
    "\n",
    "img_list = os.listdir(\"quality_compair/output\")\n",
    "\n",
    "fa = face_alignment.FaceAlignment(face_alignment.LandmarksType.TWO_D, device='cuda')"
   ]
  },
  {
   "cell_type": "code",
   "execution_count": 69,
   "metadata": {},
   "outputs": [
    {
     "data": {
      "image/png": "[encoded data removed]",
      "text/plain": [
       "<Figure size 200x200 with 1 Axes>"
      ]
     },
     "metadata": {},
     "output_type": "display_data"
    },
    {
     "data": {
      "image/png": "[encoded data removed]",
      "text/plain": [
       "<Figure size 200x200 with 1 Axes>"
      ]
     },
     "metadata": {},
     "output_type": "display_data"
    },
    {
     "data": {
      "image/png": "[encoded data removed]",
      "text/plain": [
       "<Figure size 200x200 with 1 Axes>"
      ]
     },
     "metadata": {},
     "output_type": "display_data"
    },
    {
     "data": {
      "image/png": "[encoded data removed]",
      "text/plain": [
       "<Figure size 200x200 with 1 Axes>"
      ]
     },
     "metadata": {},
     "output_type": "display_data"
    },
    {
     "data": {
      "image/png": "[encoded data removed]",
      "text/plain": [
       "<Figure size 200x200 with 1 Axes>"
      ]
     },
     "metadata": {},
     "output_type": "display_data"
    },
    {
     "data": {
      "image/png": "[encoded data removed]",
      "text/plain": [
       "<Figure size 200x200 with 1 Axes>"
      ]
     },
     "metadata": {},
     "output_type": "display_data"
    },
    {
     "data": {
      "image/png": "[encoded data removed]",
      "text/plain": [
       "<Figure size 200x200 with 1 Axes>"
      ]
     },
     "metadata": {},
     "output_type": "display_data"
    },
    {
     "data": {
      "image/png": "[encoded data removed]",
      "text/plain": [
       "<Figure size 200x200 with 1 Axes>"
      ]
     },
     "metadata": {},
     "output_type": "display_data"
    },
    {
     "data": {
      "image/png": "[encoded data removed]",
      "text/plain": [
       "<Figure size 200x200 with 1 Axes>"
      ]
     },
     "metadata": {},
     "output_type": "display_data"
    },
    {
     "data": {
      "image/png": "[encoded data removed]",
      "text/plain": [
       "<Figure size 200x200 with 1 Axes>"
      ]
     },
     "metadata": {},
     "output_type": "display_data"
    },
    {
     "data": {
      "image/png": "[encoded data removed]",
      "text/plain": [
       "<Figure size 200x200 with 1 Axes>"
      ]
     },
     "metadata": {},
     "output_type": "display_data"
    },
    {
     "data": {
      "image/png": "[encoded data removed]",
      "text/plain": [
       "<Figure size 200x200 with 1 Axes>"
      ]
     },
     "metadata": {},
     "output_type": "display_data"
    },
    {
     "data": {
      "image/png": "[encoded data removed]",
      "text/plain": [
       "<Figure size 200x200 with 1 Axes>"
      ]
     },
     "metadata": {},
     "output_type": "display_data"
    },
    {
     "data": {
      "image/png": "[encoded data removed]",
      "text/plain": [
       "<Figure size 200x200 with 1 Axes>"
      ]
     },
     "metadata": {},
     "output_type": "display_data"
    },
    {
     "data": {
      "image/png": "[encoded data removed]",
      "text/plain": [
       "<Figure size 200x200 with 1 Axes>"
      ]
     },
     "metadata": {},
     "output_type": "display_data"
    },
    {
     "data": {
      "image/png": "[encoded data removed]",
      "text/plain": [
       "<Figure size 200x200 with 1 Axes>"
      ]
     },
     "metadata": {},
     "output_type": "display_data"
    },
    {
     "data": {
      "image/png": "[encoded data removed]",
      "text/plain": [
       "<Figure size 200x200 with 1 Axes>"
      ]
     },
     "metadata": {},
     "output_type": "display_data"
    },
    {
     "data": {
      "image/png": "[encoded data removed]",
      "text/plain": [
       "<Figure size 200x200 with 1 Axes>"
      ]
     },
     "metadata": {},
     "output_type": "display_data"
    }
   ],
   "source": [
    "for name in img_list:\n",
    "    img = io.imread(f\"quality_compair/output/{name}\")[:,:,:3]\n",
    "    # img = skimage.transform.resize(img, (256, 256, 3))\n",
    "    lmd = fa.get_landmarks(img)\n",
    "    np.save(f\"quality_compair/landmarks/{name.replace('.png','')}.npy\", lmd)\n",
    "    plain = np.ones((288, 288, 3))\n",
    "    plt.figure(figsize=(2,2))\n",
    "    plt.imshow(plain)\n",
    "\n",
    "    if \"GT\" in name: \n",
    "        c='b'\n",
    "        lmd = lmd[0] \n",
    "        lmd = lmd + np.random.uniform(-1,1 , [68,2])\n",
    "        plt.plot(lmd[0:17,0],lmd[0:17,1],marker='o',markersize=0.5, linestyle='-',color=c,lw=0.3)\n",
    "        plt.plot(lmd[17:22,0],lmd[17:22,1],marker='o',markersize=0.5, linestyle='-',color=c,lw=0.3)\n",
    "        plt.plot(lmd[22:27,0],lmd[22:27,1],marker='o',markersize=0.5, linestyle='-',color=c,lw=0.3)\n",
    "        plt.plot(lmd[27:31,0],lmd[27:31,1],marker='o',markersize=0.5, linestyle='-',color=c,lw=0.3)\n",
    "        plt.plot(lmd[31:36,0],lmd[31:36,1],marker='o',markersize=0.5, linestyle='-',color=c,lw=0.3)\n",
    "        plt.plot(lmd[36:42,0],lmd[36:42,1],marker='o',markersize=0.5, linestyle='-',color=c,lw=0.3)\n",
    "        plt.plot(lmd[42:48,0],lmd[42:48,1],marker='o',markersize=0.5, linestyle='-',color=c,lw=0.3)\n",
    "        plt.plot(lmd[48:60,0],lmd[48:60,1],marker='o',markersize=0.5, linestyle='-',color=c,lw=0.3)\n",
    "        plt.plot(lmd[60:68,0],lmd[60:68,1],marker='o',markersize=0.5, linestyle='-',color=c,lw=0.3) \n",
    "        plt.savefig(f\"quality_compair/show/_{name}\")\n",
    "        plt.close()\n"
   ]
  },
  {
   "cell_type": "code",
   "execution_count": 62,
   "metadata": {},
   "outputs": [
    {
     "data": {
      "text/plain": [
       "[array([[ 73., 129.],\n",
       "        [ 75., 147.],\n",
       "        [ 80., 162.],\n",
       "        [ 83., 177.],\n",
       "        [ 88., 193.],\n",
       "        [ 98., 208.],\n",
       "        [108., 218.],\n",
       "        [123., 230.],\n",
       "        [146., 238.],\n",
       "        [166., 230.],\n",
       "        [176., 220.],\n",
       "        [186., 210.],\n",
       "        [194., 198.],\n",
       "        [201., 180.],\n",
       "        [204., 165.],\n",
       "        [206., 147.],\n",
       "        [206., 132.],\n",
       "        [ 90., 112.],\n",
       "        [ 98., 104.],\n",
       "        [110., 102.],\n",
       "        [121., 102.],\n",
       "        [128., 104.],\n",
       "        [163., 107.],\n",
       "        [171., 104.],\n",
       "        [181., 104.],\n",
       "        [191., 107.],\n",
       "        [199., 112.],\n",
       "        [146., 124.],\n",
       "        [148., 134.],\n",
       "        [148., 145.],\n",
       "        [148., 155.],\n",
       "        [133., 160.],\n",
       "        [138., 162.],\n",
       "        [146., 165.],\n",
       "        [153., 162.],\n",
       "        [158., 162.],\n",
       "        [103., 124.],\n",
       "        [110., 119.],\n",
       "        [118., 119.],\n",
       "        [126., 124.],\n",
       "        [121., 127.],\n",
       "        [110., 127.],\n",
       "        [163., 124.],\n",
       "        [171., 122.],\n",
       "        [179., 122.],\n",
       "        [186., 124.],\n",
       "        [179., 127.],\n",
       "        [171., 127.],\n",
       "        [118., 190.],\n",
       "        [126., 177.],\n",
       "        [138., 175.],\n",
       "        [146., 175.],\n",
       "        [153., 175.],\n",
       "        [163., 180.],\n",
       "        [171., 193.],\n",
       "        [163., 208.],\n",
       "        [153., 215.],\n",
       "        [146., 218.],\n",
       "        [133., 215.],\n",
       "        [126., 208.],\n",
       "        [121., 190.],\n",
       "        [136., 180.],\n",
       "        [146., 180.],\n",
       "        [153., 182.],\n",
       "        [169., 193.],\n",
       "        [153., 208.],\n",
       "        [146., 208.],\n",
       "        [136., 208.]], dtype=float32)]"
      ]
     },
     "execution_count": 62,
     "metadata": {},
     "output_type": "execute_result"
    }
   ],
   "source": [
    "lmd"
   ]
  },
  {
   "cell_type": "code",
   "execution_count": 64,
   "metadata": {},
   "outputs": [
    {
     "data": {
      "text/plain": [
       "array([[ 73.79872794, 110.97756771],\n",
       "       [ 54.86100197, 155.8631797 ],\n",
       "       [ 89.09683293, 203.38054015],\n",
       "       [120.3054312 , 221.29574145],\n",
       "       [ 53.72582591, 182.09564803],\n",
       "       [127.20636289, 192.86183017],\n",
       "       [ 92.69139034, 192.72748347],\n",
       "       [134.79121499, 259.38062062],\n",
       "       [155.49122048, 216.06951778],\n",
       "       [120.1574452 , 256.95346156],\n",
       "       [198.59897955, 213.78202159],\n",
       "       [177.73659811, 226.47293117],\n",
       "       [200.14856206, 240.73302132],\n",
       "       [230.95441179, 164.92415233],\n",
       "       [243.77637733, 193.19307197],\n",
       "       [242.78132737, 156.39509076],\n",
       "       [173.67971471, 159.7384791 ],\n",
       "       [ 48.2091147 , 129.85339332],\n",
       "       [ 78.22628747,  68.54890278],\n",
       "       [132.3107515 , 141.47217978],\n",
       "       [102.50632309, 134.63520116],\n",
       "       [ 88.96918491, 151.94294566],\n",
       "       [201.92920421, 146.40196654],\n",
       "       [121.61694471,  56.45852871],\n",
       "       [203.91044993, 123.59955914],\n",
       "       [219.61691216, 117.86123212],\n",
       "       [240.62815852, 154.52226725],\n",
       "       [ 96.20007902, 140.80727376],\n",
       "       [142.53073775, 107.11329018],\n",
       "       [180.12768099, 138.80693066],\n",
       "       [128.19335497, 135.43955608],\n",
       "       [121.25945595, 177.72414337],\n",
       "       [164.62692978, 141.31372029],\n",
       "       [110.34287075, 121.05370194],\n",
       "       [150.24570481, 116.3826723 ],\n",
       "       [195.49811015, 135.77320434],\n",
       "       [ 96.32150449,  75.50416193],\n",
       "       [119.45800587, 114.29942581],\n",
       "       [125.33284357, 116.94773243],\n",
       "       [108.58437947, 152.99936217],\n",
       "       [ 71.6610585 , 137.02022981],\n",
       "       [ 77.27598047, 143.15661704],\n",
       "       [151.75943655, 161.58017164],\n",
       "       [202.81938929, 156.639973  ],\n",
       "       [228.09003233,  74.20319319],\n",
       "       [185.1485382 , 124.20732349],\n",
       "       [216.59154692, 166.5944791 ],\n",
       "       [193.12959655, 169.67666492],\n",
       "       [ 97.33753046, 140.8371665 ],\n",
       "       [129.60425219, 212.69281559],\n",
       "       [166.66219754, 130.21636133],\n",
       "       [110.29855118, 189.56795395],\n",
       "       [151.05416311, 215.3310833 ],\n",
       "       [129.60154246, 169.64821328],\n",
       "       [214.96685945, 218.86027646],\n",
       "       [198.9941181 , 234.47322757],\n",
       "       [144.29406685, 248.10113777],\n",
       "       [166.46118073, 210.59614751],\n",
       "       [ 99.03865351, 199.93664093],\n",
       "       [105.00869544, 222.3200758 ],\n",
       "       [170.05318048, 143.3728453 ],\n",
       "       [130.45606264, 139.6388895 ],\n",
       "       [105.78559411, 149.08824617],\n",
       "       [168.07454058, 188.36026034],\n",
       "       [133.18772587, 168.8812798 ],\n",
       "       [139.93990293, 172.77519059],\n",
       "       [124.89550319, 182.76464358],\n",
       "       [129.00944439, 246.16025   ]])"
      ]
     },
     "execution_count": 64,
     "metadata": {},
     "output_type": "execute_result"
    }
   ],
   "source": [
    "b"
   ]
  },
  {
   "cell_type": "code",
   "execution_count": null,
   "metadata": {},
   "outputs": [],
   "source": []
  }
 ],
 "metadata": {
  "kernelspec": {
   "display_name": "venv",
   "language": "python",
   "name": "python3"
  },
  "language_info": {
   "codemirror_mode": {
    "name": "ipython",
    "version": 3
   },
   "file_extension": ".py",
   "mimetype": "text/x-python",
   "name": "python",
   "nbconvert_exporter": "python",
   "pygments_lexer": "ipython3",
   "version": "3.10.12"
  }
 },
 "nbformat": 4,
 "nbformat_minor": 2
}
